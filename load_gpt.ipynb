{
 "cells": [
  {
   "cell_type": "code",
   "execution_count": 2,
   "metadata": {},
   "outputs": [],
   "source": [
    "from models.prefix_gpt2_model import *\n",
    "from utils.args_utils import Args"
   ]
  },
  {
   "cell_type": "code",
   "execution_count": 3,
   "metadata": {},
   "outputs": [
    {
     "name": "stdout",
     "output_type": "stream",
     "text": [
      "<utils.args_utils.Args object at 0x130a5a520>\n"
     ]
    }
   ],
   "source": [
    "# args 예시\n",
    "args = Args()\n",
    "\n",
    "# pretrained_location 정의된 모델은 PrefixModel init 시점에 로드된다\n",
    "args.pretrained_location = \"skt/kogpt2-base-v2\"\n",
    "args.special_tokens = None\n",
    "args.prefix_dropout = 0.1\n",
    "args.freeze_plm = True\n",
    "args.freeze_prefix = False\n",
    "\n",
    "args.prefix_sequence_length = 5\n",
    "args.mid_dim = 800\n",
    "print(args)"
   ]
  },
  {
   "cell_type": "code",
   "execution_count": 4,
   "metadata": {},
   "outputs": [
    {
     "name": "stdout",
     "output_type": "stream",
     "text": [
      "prefix-tuning sequence length is 5.\n"
     ]
    },
    {
     "name": "stderr",
     "output_type": "stream",
     "text": [
      "Special tokens have been added in the vocabulary, make sure the associated word embeddings are fine-tuned or trained.\n"
     ]
    }
   ],
   "source": [
    "# LMHeadModel\n",
    "model = PrefixGPT2LMHeadModel(args)"
   ]
  },
  {
   "cell_type": "code",
   "execution_count": 6,
   "metadata": {},
   "outputs": [
    {
     "name": "stdout",
     "output_type": "stream",
     "text": [
      "torch.Size([1, 2])\n"
     ]
    }
   ],
   "source": [
    "inputs = model.tokenizer([\"제 이름은\"], max_length=1024, return_tensors=\"pt\")\n",
    "print(inputs[\"input_ids\"].shape)\n",
    "generated = model.generate(**inputs, num_beams=2, min_length=40, max_length=40)"
   ]
  },
  {
   "cell_type": "code",
   "execution_count": 7,
   "metadata": {},
   "outputs": [
    {
     "data": {
      "text/plain": [
       "\"제 이름은 '스텔라'다.\\n스텔라라는 '스텔라'보다 더 큰 '스텔라'다.\\n스텔라는 '스텔라'보다 더 큰 '스텔\""
      ]
     },
     "execution_count": 7,
     "metadata": {},
     "output_type": "execute_result"
    }
   ],
   "source": [
    "model.tokenizer.batch_decode(generated, skip_special_tokens=False, clean_up_tokenization_spaces=False)[0]"
   ]
  }
 ],
 "metadata": {
  "interpreter": {
   "hash": "5b39ad1a948433b7c8e01496df6e64de2e9d84356684db434aed236958fdffcc"
  },
  "kernelspec": {
   "display_name": "Python 3.9.12 ('torch')",
   "language": "python",
   "name": "python3"
  },
  "language_info": {
   "codemirror_mode": {
    "name": "ipython",
    "version": 3
   },
   "file_extension": ".py",
   "mimetype": "text/x-python",
   "name": "python",
   "nbconvert_exporter": "python",
   "pygments_lexer": "ipython3",
   "version": "3.9.12"
  },
  "orig_nbformat": 4
 },
 "nbformat": 4,
 "nbformat_minor": 2
}
