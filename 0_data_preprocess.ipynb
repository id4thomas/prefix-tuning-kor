{
 "cells": [
  {
   "cell_type": "code",
   "execution_count": 1,
   "metadata": {},
   "outputs": [],
   "source": [
    "import pandas as pd\n",
    "from sklearn.model_selection import train_test_split"
   ]
  },
  {
   "cell_type": "code",
   "execution_count": 2,
   "metadata": {},
   "outputs": [],
   "source": [
    "seed = 100"
   ]
  },
  {
   "cell_type": "code",
   "execution_count": 3,
   "metadata": {},
   "outputs": [
    {
     "name": "stdout",
     "output_type": "stream",
     "text": [
      "(11823, 3) Index(['Q', 'A', 'label'], dtype='object')\n",
      "(11823, 2) Index(['source', 'target'], dtype='object')\n"
     ]
    }
   ],
   "source": [
    "df = pd.read_csv(\"Chatbot_data/ChatbotData.csv\")\n",
    "print(df.shape, df.columns)\n",
    "\n",
    "df = df[[\"Q\", \"A\"]].rename(columns = {\"Q\": \"source\", \"A\": \"target\"})\n",
    "print(df.shape, df.columns)"
   ]
  },
  {
   "cell_type": "code",
   "execution_count": 4,
   "metadata": {},
   "outputs": [],
   "source": [
    "# DF -> Train/Test\n",
    "df_train, df_test = train_test_split(df, test_size = 0.1, random_state = seed)\n",
    "\n",
    "# Train -> Train/Val\n",
    "df_train, df_val = train_test_split(df_train, test_size = 0.1, random_state = seed)"
   ]
  },
  {
   "cell_type": "code",
   "execution_count": 6,
   "metadata": {},
   "outputs": [],
   "source": [
    "# SAVE PROCESSED\n",
    "df_train.to_csv(\"processed_data/train.tsv\", sep = \"\\t\", index = None)\n",
    "df_val.to_csv(\"processed_data/val.tsv\", sep = \"\\t\", index = None)\n",
    "df_test.to_csv(\"processed_data/test.tsv\", sep = \"\\t\", index = None)"
   ]
  }
 ],
 "metadata": {
  "kernelspec": {
   "display_name": "huggingface",
   "language": "python",
   "name": "huggingface"
  },
  "language_info": {
   "codemirror_mode": {
    "name": "ipython",
    "version": 3
   },
   "file_extension": ".py",
   "mimetype": "text/x-python",
   "name": "python",
   "nbconvert_exporter": "python",
   "pygments_lexer": "ipython3",
   "version": "3.8.13"
  },
  "orig_nbformat": 4
 },
 "nbformat": 4,
 "nbformat_minor": 2
}
